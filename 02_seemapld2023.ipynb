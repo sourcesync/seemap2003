{
 "cells": [
  {
   "cell_type": "markdown",
   "id": "8c49ac4f-3661-4c78-b1ff-07cab922f578",
   "metadata": {},
   "source": [
    "<img src=\"images/seemapldbig.png\">"
   ]
  },
  {
   "cell_type": "markdown",
   "id": "c5372a42-2136-498f-b611-b0c0a23ba6a3",
   "metadata": {},
   "source": [
    "# Jupyter Notebooks\n",
    "\n",
    "### &emsp;- an IDE (integrated development environment) for Python\n",
    "### &emsp;- completely open-Source\n",
    "### &emsp;- used extensively In academia and industry\n",
    "### &emsp;- popular with data scientists and ML engineers\n",
    "### &emsp;- oriented around \"cells\" ( documentation, code, or output )\n",
    "### &emsp;- For example, this sentence resides in a editable documentation cell."
   ]
  },
  {
   "cell_type": "code",
   "execution_count": null,
   "id": "0ad10f8b-f9e8-4856-880f-728b1dff3041",
   "metadata": {},
   "outputs": [],
   "source": [
    "# This sentence is in a comment in an editable code cell\n",
    "\n",
    "encoded = \"\\x54\\x68\\x69\\x73\\x20\\x49\\x73\\x20\\x41\\x6E\\x20\\x4F\\x75\\x74\\x70\\x75\\x74\\x20\\x43\\x65\\x6C\\x6C\"\n",
    "\n",
    "print(encoded)\n"
   ]
  },
  {
   "cell_type": "markdown",
   "id": "13c144e4-945e-41a4-aa8e-fa5aac07573b",
   "metadata": {},
   "source": [
    "# What's Our Goal With Survival Analysis Prediction\n",
    "\n",
    "<img src=\"images/predictor.png\">\n",
    "\n",
    "# Examples:\n",
    "\n",
    "## &emsp;Health Outcomes\n",
    "\n",
    "### &emsp;&emsp;-&emsp;predict patient survival time by symptoms, age, genetic expression activity, ...\n",
    "\n",
    "## &emsp;Customer Activity\n",
    "\n",
    "### &emsp;&emsp;-&emsp;predict when customer might cancel a subscription based on their product rating, ...\n",
    "\n",
    "## &emsp;Machine Failure\n",
    "\n",
    "### &emsp;&emsp;-&emsp;predict part failure from its age, temperature, lot,  ...\n",
    "\n"
   ]
  },
  {
   "cell_type": "markdown",
   "id": "551e7a6a-2362-4ffb-a8bd-20adaeb569a8",
   "metadata": {},
   "source": [
    "# Time-To-Event Is What We Want, But Realistically...\n",
    "\n",
    "<img src=\"images/predictor_prob.png\">"
   ]
  },
  {
   "cell_type": "markdown",
   "id": "b600fb75-77b5-4d5f-840f-3b4d1e924e5d",
   "metadata": {},
   "source": [
    "# Let's Now Train A Machine Learning Model Using A Typical Pipeline...\n"
   ]
  },
  {
   "cell_type": "markdown",
   "id": "62f4df79-32b0-4de7-88fe-9cfe5e55c8e1",
   "metadata": {},
   "source": [
    "<img src=\"images/pipeline.png\">"
   ]
  },
  {
   "cell_type": "markdown",
   "id": "35cfc26c-d3a9-44b3-9fe6-594f46a8464f",
   "metadata": {},
   "source": [
    "# Work-Through Example: Predicting Cancer Deaths\n",
    "\n",
    "### -&emsp;dataset is cancer death ddata from 2012 called METABRIC\n",
    "\n",
    "### -&emsp;contains about 2000 patient records with ***Gene Expression*** data\n",
    "\n",
    "### -&emsp;goal is to train an ML model that can predict survival time of patients in clinical trial\n",
    " \n"
   ]
  },
  {
   "cell_type": "markdown",
   "id": "aa832e8a-ed82-48b2-9187-8520e4479fc6",
   "metadata": {},
   "source": [
    "# Load The Dataset...\n",
    "<img src=\"images/load-data.png\">"
   ]
  },
  {
   "cell_type": "code",
   "execution_count": null,
   "id": "292a09f5-540b-4199-9391-6342b357e52d",
   "metadata": {},
   "outputs": [],
   "source": [
    "#\n",
    "# Prepare this notebook by \"import\"ing the python packages we will need\n",
    "#\n",
    "\n",
    "# I've pre-package a bunch of high-level codee functions for the survival analysis tutorial/workshop.\n",
    "# I recommend you explore the code in this python package at a later time!\n",
    "import survival_analysis\n",
    "\n",
    "import importlib\n",
    "importlib.reload(survival_analysis)"
   ]
  },
  {
   "cell_type": "code",
   "execution_count": null,
   "id": "9cf58b00-db41-43b1-a01c-0044a349c678",
   "metadata": {},
   "outputs": [],
   "source": [
    "#\n",
    "# Load the dataset\n",
    "#\n",
    "\n",
    "survival_data = survival_analysis.get_cancer_death_data()\n",
    "\n",
    "print(\"dataset shape=\", survival_data.shape)\n"
   ]
  },
  {
   "cell_type": "markdown",
   "id": "09fc01f5-470e-4772-a793-5c82186c8a81",
   "metadata": {},
   "source": [
    "# Explore The Dataset...\n",
    "<img src=\"images/explore-data.png\">"
   ]
  },
  {
   "cell_type": "code",
   "execution_count": null,
   "id": "e8f8c6d8-615b-44f1-ba5f-2073315c71a7",
   "metadata": {},
   "outputs": [],
   "source": [
    "#\n",
    "# Explore the data\n",
    "#\n",
    "\n",
    "survival_data.head(20)"
   ]
  },
  {
   "cell_type": "markdown",
   "id": "6b12f9f0-5974-45f1-b5b1-d2841dd2bab5",
   "metadata": {},
   "source": [
    "\n",
    "# A Note About The Dataset Columns...\n",
    "\n",
    "| Factor | Type | Description |\n",
    "| --- | --- | --- |\n",
    "| MKI67  | numeric | gene expression for MKI67 |\n",
    "| EGFR  | numeric | gene expression for EGFR  |\n",
    "| PGR  | numeric | gene expression for PGR  |\n",
    "| ERBB2  | numeric | gene expression for ERBB2  |\n",
    "| hormone trtmnt  | binary | patient underwent hormone treatment |\n",
    "| radiothrpy  | binary | patient underwent radiotherapy |\n",
    "| chemothrpy  | binary | patient underwent chemotherapy  |\n",
    "| ER-pos  | binary | patient underwent ER-positive therapy |\n",
    "| age  | binary | patient age |\n",
    "| duration  | numeric | days survived |\n",
    "| event  | binary | patient died during study |\n",
    "\n",
    "### Obviously, for customer churn or machine failure prediction the columns will be different..."
   ]
  },
  {
   "cell_type": "code",
   "execution_count": null,
   "id": "33e15141-7fcd-4583-b5da-9b4e31bc4936",
   "metadata": {},
   "outputs": [],
   "source": [
    "#\n",
    "# Explore the \"numeric columns\n",
    "#\n",
    "\n",
    "survival_data[['MKI67', 'EGFR', 'PGR', 'ERBB2', 'age', 'days']].describe()"
   ]
  },
  {
   "cell_type": "markdown",
   "id": "55cc4117-618f-4a72-bd5b-855b1a771445",
   "metadata": {},
   "source": [
    "# Transform The Dataset...\n",
    "<img src=\"images/transform-data.png\">"
   ]
  },
  {
   "cell_type": "code",
   "execution_count": null,
   "id": "ee32cb1a-4add-4b91-a85a-c7a5f52f770f",
   "metadata": {},
   "outputs": [],
   "source": [
    "# Transform the dataset for our machine learning model...\n",
    "\n",
    "train_dataset, validation_dataset, test_dataset = survival_analysis.transform_data()\n",
    "\n",
    "print(\"training dataset shape=\", train_dataset.shape)\n",
    "\n",
    "print(\"validation dataset shape=\", validation_dataset.shape)\n",
    "\n",
    "print(\"test dataset shape=\", test_dataset.shape)"
   ]
  },
  {
   "cell_type": "markdown",
   "id": "ae78dd34-6016-44fa-abae-6efc019764c1",
   "metadata": {},
   "source": [
    "# So Why Do We Split The Original Dataset?\n",
    "\n",
    "### -&emsp;Training Dataset: We usually keep most of it for training the model\n",
    "\n",
    "### -&emsp;Validation Dataset: dWe take a small portion to measure how well the training is going ( and when to stop! )\n",
    "\n",
    "### -&emsp;Test Dataseet: We keep a \"hold-out\" dataset to evaluate the final model\n",
    "\n"
   ]
  },
  {
   "cell_type": "markdown",
   "id": "ef019f85-c572-4d3d-b77c-99b6697a2dae",
   "metadata": {},
   "source": [
    "# Choose A Machine Learning Model...\n",
    "<img src=\"images/choose-model.png\">"
   ]
  },
  {
   "cell_type": "code",
   "execution_count": null,
   "id": "a3610ef4-6d1f-479f-a814-5e7433b0b34a",
   "metadata": {},
   "outputs": [],
   "source": [
    "# We will try a small neural network here called a multi-layer perceptron.\n",
    "# Let's print out the \"architecture\" and discuss what the layers mean...\n",
    "\n",
    "ml_model = survival_analysis.choose_multilayer_perceptron()\n",
    "\n",
    "print(\"model architecture=\", ml_model)"
   ]
  },
  {
   "cell_type": "markdown",
   "id": "b8498f6a-106e-4a0c-aab2-0b7047342459",
   "metadata": {},
   "source": [
    "# Prepare To Train The Model...\n",
    "\n",
    "<img src=\"images/prepare-model.png\">\n"
   ]
  },
  {
   "cell_type": "code",
   "execution_count": null,
   "id": "a29f374a-1e5d-4ccf-8bc9-b6a8a716c25a",
   "metadata": {},
   "outputs": [],
   "source": [
    "# There are some \"hyper-parameters\" we will use to prepare the training.\n",
    "# Let's discuss what these mean...\n",
    "\n",
    "epochs, stop_criteria = survival_analysis.prepare_training()\n",
    "\n",
    "print(\"training epochs=\", epochs)\n",
    "print(\"stop_criteria=\", stop_criteria)"
   ]
  },
  {
   "cell_type": "markdown",
   "id": "04afd481-34c0-444a-af7b-b859f16269c7",
   "metadata": {},
   "source": [
    "# Train The Model...\n",
    "\n",
    "<img src=\"images/train-model.png\">"
   ]
  },
  {
   "cell_type": "code",
   "execution_count": null,
   "id": "b82bc523-7f4d-4902-8c70-010dee8e8051",
   "metadata": {},
   "outputs": [],
   "source": [
    "# Let's go ahead and train the model and discuss the output\n",
    "\n",
    "trained_model = survival_analysis.train_model()"
   ]
  },
  {
   "cell_type": "markdown",
   "id": "979b405b-c19c-4c18-b30f-09f58ed1e887",
   "metadata": {},
   "source": [
    "# Evaluate The Model...\n",
    "\n",
    "<img src=\"images/eval-model.png\">"
   ]
  },
  {
   "cell_type": "code",
   "execution_count": null,
   "id": "4df211ce-da7d-4745-a02e-001ae7d44abb",
   "metadata": {},
   "outputs": [],
   "source": [
    "# Remember, we removed some of the original data for testing our final model.\n",
    "# It was not used in training the model and contains \"ground truth\" data - that is,\n",
    "# we know how long the patient survived.  We can use to determine how well our \n",
    "# model predicts survival.\n",
    "\n",
    "# Let's look at some of that 'test data'...\n",
    "\n",
    "test_dataset.iloc[0:10,:] "
   ]
  },
  {
   "cell_type": "code",
   "execution_count": null,
   "id": "29f56771-d127-4d6d-9f45-47b9ba4043c2",
   "metadata": {},
   "outputs": [],
   "source": [
    "# Let's focus on the first two patients (patient 379 and 1711)\n",
    "\n",
    "two_patients = test_dataset[ \\\n",
    "        (test_dataset['ID']=='patient_364') | (test_dataset['ID']=='patient_577') ]\n",
    "\n",
    "two_patients"
   ]
  },
  {
   "cell_type": "code",
   "execution_count": null,
   "id": "c4608a5b-ac3f-46ac-ba77-8781b8792f5c",
   "metadata": {},
   "outputs": [],
   "source": [
    "# Let's look at the predicted survival probability curve for these two patients and discuss\n",
    "\n",
    "survival_analysis.predict( two_patients )"
   ]
  },
  {
   "cell_type": "code",
   "execution_count": null,
   "id": "c8bd1f6d-ee37-4e6b-82ff-6d0b4ed96a00",
   "metadata": {},
   "outputs": [],
   "source": [
    "# We can perform this qualitative metric, called the concordance index, on the entire \n",
    "# \"held-out\" test set to get the overall quality of the predictive model.\n",
    "\n",
    "model_quality = survival_analysis.predict_model_concordance_index()\n",
    "\n",
    "print(\"The model quality is\", model_quality, \" out of 100.  You could say it can predict with that accuracy.\")"
   ]
  },
  {
   "cell_type": "markdown",
   "id": "aba9ed10-0ff5-4f54-9b40-625578a8603f",
   "metadata": {},
   "source": [
    "# TODO: Let's review"
   ]
  },
  {
   "cell_type": "markdown",
   "id": "e8649aec-036d-48d4-92c7-fa8f69464f30",
   "metadata": {},
   "source": [
    "# TODO: Other Models"
   ]
  },
  {
   "cell_type": "markdown",
   "id": "ab5f2c4c-8358-4d7a-b3b4-fffda94f6319",
   "metadata": {},
   "source": [
    "# TODO: Discuss The Kaggle Challenge"
   ]
  }
 ],
 "metadata": {
  "kernelspec": {
   "display_name": "Python 3 (ipykernel)",
   "language": "python",
   "name": "python3"
  },
  "language_info": {
   "codemirror_mode": {
    "name": "ipython",
    "version": 3
   },
   "file_extension": ".py",
   "mimetype": "text/x-python",
   "name": "python",
   "nbconvert_exporter": "python",
   "pygments_lexer": "ipython3",
   "version": "3.8.16"
  }
 },
 "nbformat": 4,
 "nbformat_minor": 5
}
