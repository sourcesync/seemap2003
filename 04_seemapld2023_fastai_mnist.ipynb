{
 "cells": [
  {
   "cell_type": "code",
   "execution_count": null,
   "id": "ee94c358-f795-439e-ab3f-8ed8de3231a2",
   "metadata": {},
   "outputs": [],
   "source": []
  },
  {
   "cell_type": "code",
   "execution_count": 10,
   "id": "81e34959-886a-4e57-a62b-eea8ae963508",
   "metadata": {
    "tags": []
   },
   "outputs": [
    {
     "name": "stdout",
     "output_type": "stream",
     "text": [
      "Using cpu\n"
     ]
    }
   ],
   "source": [
    "import torch\n",
    "import math\n",
    " \n",
    "import timm\n",
    "from fastai.vision.all import *\n",
    "\n",
    "if torch.backends.mps.is_available() and torch.backends.mps.is_built():\n",
    "    print(\"Found mps\")\n",
    "    default_device(torch.device(\"mps\"))\n",
    "else:\n",
    "    print(\"Using cpu\")\n",
    "    default_device(torch.device(\"mps\"))"
   ]
  },
  {
   "cell_type": "code",
   "execution_count": null,
   "id": "e91c7e13-3af4-4463-8169-a25e700e4c4d",
   "metadata": {},
   "outputs": [],
   "source": []
  },
  {
   "cell_type": "code",
   "execution_count": 11,
   "id": "060a1cba-f1bf-4644-98b0-9e9d45155fc1",
   "metadata": {
    "tags": []
   },
   "outputs": [
    {
     "name": "stdout",
     "output_type": "stream",
     "text": [
      "/Users/gwilliams/.fastai/data/mnist_png\n"
     ]
    }
   ],
   "source": [
    "path = untar_data(URLs.MNIST)\n",
    "print(path)"
   ]
  },
  {
   "cell_type": "code",
   "execution_count": null,
   "id": "66fe0f65-b6d2-479e-95cd-d17365c52300",
   "metadata": {},
   "outputs": [],
   "source": []
  },
  {
   "cell_type": "code",
   "execution_count": 12,
   "id": "19f592c7-97b4-488e-afef-62dc34c399b5",
   "metadata": {
    "tags": []
   },
   "outputs": [],
   "source": [
    "block = DataBlock(\n",
    "        blocks=(ImageBlock, CategoryBlock),\n",
    "        get_items=get_image_files,\n",
    "        splitter=RandomSplitter(valid_pct=0.2, seed=42),\n",
    "        get_y=parent_label)\n",
    "#        batch_tfms=aug_transforms(mult=2., do_flip=False))"
   ]
  },
  {
   "cell_type": "code",
   "execution_count": null,
   "id": "77a50a3d-50c2-4ae7-864d-e52ed8fbe91a",
   "metadata": {},
   "outputs": [],
   "source": []
  },
  {
   "cell_type": "code",
   "execution_count": 13,
   "id": "db7c5967-3912-4809-9e1a-e945529ac093",
   "metadata": {
    "tags": []
   },
   "outputs": [],
   "source": [
    "loaders = block.dataloaders(path/\"training\")"
   ]
  },
  {
   "cell_type": "code",
   "execution_count": null,
   "id": "499be04b-f7f3-4d72-aa1a-a0e927ace37d",
   "metadata": {},
   "outputs": [],
   "source": []
  },
  {
   "cell_type": "code",
   "execution_count": 14,
   "id": "9c3b04a2-20ef-42e4-a3a0-6930a8ac9f96",
   "metadata": {
    "tags": []
   },
   "outputs": [
    {
     "data": {
      "image/png": "[encoded data removed]",
      "text/plain": [
       "<Figure size 1200x300 with 4 Axes>"
      ]
     },
     "metadata": {},
     "output_type": "display_data"
    }
   ],
   "source": [
    "loaders.train.show_batch(max_n=4, nrows=1)"
   ]
  },
  {
   "cell_type": "code",
   "execution_count": null,
   "id": "efd74751-208c-4d09-9ae7-a0591783ceef",
   "metadata": {},
   "outputs": [],
   "source": []
  },
  {
   "cell_type": "code",
   "execution_count": 15,
   "id": "2054a068-29a3-4954-8c23-19766989509b",
   "metadata": {
    "tags": []
   },
   "outputs": [
    {
     "name": "stderr",
     "output_type": "stream",
     "text": [
      "/Users/gwilliams/Projects/SEEMAP2023/venv/seemap2023/lib/python3.8/site-packages/torchvision/models/_utils.py:208: UserWarning: The parameter 'pretrained' is deprecated since 0.13 and may be removed in the future, please use 'weights' instead.\n",
      "  warnings.warn(\n",
      "/Users/gwilliams/Projects/SEEMAP2023/venv/seemap2023/lib/python3.8/site-packages/torchvision/models/_utils.py:223: UserWarning: Arguments other than a weight enum or `None` for 'weights' are deprecated since 0.13 and may be removed in the future. The current behavior is equivalent to passing `weights=SqueezeNet1_0_Weights.IMAGENET1K_V1`. You can also use `weights=SqueezeNet1_0_Weights.DEFAULT` to get the most up-to-date weights.\n",
      "  warnings.warn(msg)\n"
     ]
    }
   ],
   "source": [
    "# squeezenet default fast ai learner\n",
    "learn = vision_learner(loaders, squeezenet1_0, loss_func=nn.CrossEntropyLoss(), metrics=accuracy)\n"
   ]
  },
  {
   "cell_type": "code",
   "execution_count": null,
   "id": "d138e791-5ff2-418f-854f-516972a24f5d",
   "metadata": {},
   "outputs": [],
   "source": []
  },
  {
   "cell_type": "code",
   "execution_count": 16,
   "id": "0e800df4-7787-48c2-bb6c-94b0e47610cb",
   "metadata": {
    "tags": []
   },
   "outputs": [
    {
     "data": {
      "text/html": [
       "\n",
       "<style>\n",
       "    /* Turns off some styling */\n",
       "    progress {\n",
       "        /* gets rid of default border in Firefox and Opera. */\n",
       "        border: none;\n",
       "        /* Needs to be in here for Safari polyfill so background images work as expected. */\n",
       "        background-size: auto;\n",
       "    }\n",
       "    progress:not([value]), progress:not([value])::-webkit-progress-bar {\n",
       "        background: repeating-linear-gradient(45deg, #7e7e7e, #7e7e7e 10px, #5c5c5c 10px, #5c5c5c 20px);\n",
       "    }\n",
       "    .progress-bar-interrupted, .progress-bar-interrupted::-webkit-progress-bar {\n",
       "        background: #F44336;\n",
       "    }\n",
       "</style>\n"
      ],
      "text/plain": [
       "<IPython.core.display.HTML object>"
      ]
     },
     "metadata": {},
     "output_type": "display_data"
    },
    {
     "data": {
      "text/html": [],
      "text/plain": [
       "<IPython.core.display.HTML object>"
      ]
     },
     "metadata": {},
     "output_type": "display_data"
    },
    {
     "data": {
      "text/plain": [
       "Sequential (Input shape: 64 x 3 x 28 x 28)\n",
       "============================================================================\n",
       "Layer (type)         Output Shape         Param #    Trainable \n",
       "============================================================================\n",
       "                     64 x 96 x 11 x 11   \n",
       "Conv2d                                    14208      False     \n",
       "ReLU                                                           \n",
       "____________________________________________________________________________\n",
       "                     64 x 96 x 5 x 5     \n",
       "MaxPool2d                                                      \n",
       "____________________________________________________________________________\n",
       "                     64 x 16 x 5 x 5     \n",
       "Conv2d                                    1552       False     \n",
       "ReLU                                                           \n",
       "____________________________________________________________________________\n",
       "                     64 x 64 x 5 x 5     \n",
       "Conv2d                                    1088       False     \n",
       "ReLU                                                           \n",
       "Conv2d                                    9280       False     \n",
       "ReLU                                                           \n",
       "____________________________________________________________________________\n",
       "                     64 x 16 x 5 x 5     \n",
       "Conv2d                                    2064       False     \n",
       "ReLU                                                           \n",
       "____________________________________________________________________________\n",
       "                     64 x 64 x 5 x 5     \n",
       "Conv2d                                    1088       False     \n",
       "ReLU                                                           \n",
       "Conv2d                                    9280       False     \n",
       "ReLU                                                           \n",
       "____________________________________________________________________________\n",
       "                     64 x 32 x 5 x 5     \n",
       "Conv2d                                    4128       False     \n",
       "ReLU                                                           \n",
       "____________________________________________________________________________\n",
       "                     64 x 128 x 5 x 5    \n",
       "Conv2d                                    4224       False     \n",
       "ReLU                                                           \n",
       "Conv2d                                    36992      False     \n",
       "ReLU                                                           \n",
       "____________________________________________________________________________\n",
       "                     64 x 256 x 2 x 2    \n",
       "MaxPool2d                                                      \n",
       "____________________________________________________________________________\n",
       "                     64 x 32 x 2 x 2     \n",
       "Conv2d                                    8224       False     \n",
       "ReLU                                                           \n",
       "____________________________________________________________________________\n",
       "                     64 x 128 x 2 x 2    \n",
       "Conv2d                                    4224       False     \n",
       "ReLU                                                           \n",
       "Conv2d                                    36992      False     \n",
       "ReLU                                                           \n",
       "____________________________________________________________________________\n",
       "                     64 x 48 x 2 x 2     \n",
       "Conv2d                                    12336      False     \n",
       "ReLU                                                           \n",
       "____________________________________________________________________________\n",
       "                     64 x 192 x 2 x 2    \n",
       "Conv2d                                    9408       False     \n",
       "ReLU                                                           \n",
       "Conv2d                                    83136      False     \n",
       "ReLU                                                           \n",
       "____________________________________________________________________________\n",
       "                     64 x 48 x 2 x 2     \n",
       "Conv2d                                    18480      False     \n",
       "ReLU                                                           \n",
       "____________________________________________________________________________\n",
       "                     64 x 192 x 2 x 2    \n",
       "Conv2d                                    9408       False     \n",
       "ReLU                                                           \n",
       "Conv2d                                    83136      False     \n",
       "ReLU                                                           \n",
       "____________________________________________________________________________\n",
       "                     64 x 64 x 2 x 2     \n",
       "Conv2d                                    24640      False     \n",
       "ReLU                                                           \n",
       "____________________________________________________________________________\n",
       "                     64 x 256 x 2 x 2    \n",
       "Conv2d                                    16640      False     \n",
       "ReLU                                                           \n",
       "Conv2d                                    147712     False     \n",
       "ReLU                                                           \n",
       "____________________________________________________________________________\n",
       "                     64 x 512 x 1 x 1    \n",
       "MaxPool2d                                                      \n",
       "____________________________________________________________________________\n",
       "                     64 x 64 x 1 x 1     \n",
       "Conv2d                                    32832      False     \n",
       "ReLU                                                           \n",
       "____________________________________________________________________________\n",
       "                     64 x 256 x 1 x 1    \n",
       "Conv2d                                    16640      False     \n",
       "ReLU                                                           \n",
       "Conv2d                                    147712     False     \n",
       "ReLU                                                           \n",
       "AdaptiveAvgPool2d                                              \n",
       "AdaptiveMaxPool2d                                              \n",
       "____________________________________________________________________________\n",
       "                     64 x 1024           \n",
       "Flatten                                                        \n",
       "BatchNorm1d                               2048       True      \n",
       "Dropout                                                        \n",
       "____________________________________________________________________________\n",
       "                     64 x 512            \n",
       "Linear                                    524288     True      \n",
       "ReLU                                                           \n",
       "BatchNorm1d                               1024       True      \n",
       "Dropout                                                        \n",
       "____________________________________________________________________________\n",
       "                     64 x 10             \n",
       "Linear                                    5120       True      \n",
       "____________________________________________________________________________\n",
       "\n",
       "Total params: 1,267,904\n",
       "Total trainable params: 532,480\n",
       "Total non-trainable params: 735,424\n",
       "\n",
       "Optimizer used: <function Adam at 0x7fdba0d1b670>\n",
       "Loss function: CrossEntropyLoss()\n",
       "\n",
       "Model frozen up to parameter group #2\n",
       "\n",
       "Callbacks:\n",
       "  - TrainEvalCallback\n",
       "  - CastToTensor\n",
       "  - Recorder\n",
       "  - ProgressCallback"
      ]
     },
     "execution_count": 16,
     "metadata": {},
     "output_type": "execute_result"
    }
   ],
   "source": [
    "learn.summary()"
   ]
  },
  {
   "cell_type": "code",
   "execution_count": null,
   "id": "8b499e25-59d8-4cb3-b63f-772570f77631",
   "metadata": {},
   "outputs": [],
   "source": []
  },
  {
   "cell_type": "code",
   "execution_count": null,
   "id": "71bd53ea-a01d-4f41-8e4a-2fc485c7b489",
   "metadata": {
    "collapsed": true,
    "jupyter": {
     "outputs_hidden": true
    }
   },
   "outputs": [],
   "source": [
    "learn.fit_one_cycle(1)"
   ]
  }
 ],
 "metadata": {
  "kernelspec": {
   "display_name": "Python 3 (ipykernel)",
   "language": "python",
   "name": "python3"
  },
  "language_info": {
   "codemirror_mode": {
    "name": "ipython",
    "version": 3
   },
   "file_extension": ".py",
   "mimetype": "text/x-python",
   "name": "python",
   "nbconvert_exporter": "python",
   "pygments_lexer": "ipython3",
   "version": "3.8.16"
  }
 },
 "nbformat": 4,
 "nbformat_minor": 5
}
