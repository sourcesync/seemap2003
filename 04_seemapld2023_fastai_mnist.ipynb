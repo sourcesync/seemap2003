{
 "cells": [
  {
   "cell_type": "code",
   "execution_count": null,
   "id": "ee94c358-f795-439e-ab3f-8ed8de3231a2",
   "metadata": {},
   "outputs": [],
   "source": []
  },
  {
   "cell_type": "code",
   "execution_count": 1,
   "id": "81e34959-886a-4e57-a62b-eea8ae963508",
   "metadata": {
    "tags": []
   },
   "outputs": [
    {
     "name": "stdout",
     "output_type": "stream",
     "text": [
      "Using cpu\n"
     ]
    }
   ],
   "source": [
    "import torch\n",
    "import math\n",
    " \n",
    "import timm\n",
    "from fastai.vision.all import *\n",
    "\n",
    "if torch.backends.mps.is_available() and torch.backends.mps.is_built():\n",
    "    print(\"Found mps\")\n",
    "    default_device(torch.device(\"mps\"))\n",
    "else:\n",
    "    print(\"Using cpu\")\n",
    "    default_device(torch.device(\"cpu\"))\n",
    "   "
   ]
  },
  {
   "cell_type": "code",
   "execution_count": null,
   "id": "e91c7e13-3af4-4463-8169-a25e700e4c4d",
   "metadata": {},
   "outputs": [],
   "source": []
  },
  {
   "cell_type": "code",
   "execution_count": 2,
   "id": "060a1cba-f1bf-4644-98b0-9e9d45155fc1",
   "metadata": {
    "tags": []
   },
   "outputs": [
    {
     "name": "stdout",
     "output_type": "stream",
     "text": [
      "/Users/gwilliams/.fastai/data/mnist_png\n"
     ]
    }
   ],
   "source": [
    "path = untar_data(URLs.MNIST)\n",
    "print(path)"
   ]
  },
  {
   "cell_type": "code",
   "execution_count": null,
   "id": "66fe0f65-b6d2-479e-95cd-d17365c52300",
   "metadata": {},
   "outputs": [],
   "source": []
  },
  {
   "cell_type": "code",
   "execution_count": 3,
   "id": "19f592c7-97b4-488e-afef-62dc34c399b5",
   "metadata": {
    "tags": []
   },
   "outputs": [],
   "source": [
    "block = DataBlock(\n",
    "        blocks=(ImageBlock, CategoryBlock),\n",
    "        get_items=get_image_files,\n",
    "        splitter=RandomSplitter(valid_pct=0.2, seed=42),\n",
    "        get_y=parent_label)\n",
    "#        batch_tfms=aug_transforms(mult=2., do_flip=False))"
   ]
  },
  {
   "cell_type": "code",
   "execution_count": null,
   "id": "77a50a3d-50c2-4ae7-864d-e52ed8fbe91a",
   "metadata": {},
   "outputs": [],
   "source": []
  },
  {
   "cell_type": "code",
   "execution_count": 4,
   "id": "db7c5967-3912-4809-9e1a-e945529ac093",
   "metadata": {
    "tags": []
   },
   "outputs": [],
   "source": [
    "loaders = block.dataloaders(path/\"training\")"
   ]
  },
  {
   "cell_type": "code",
   "execution_count": null,
   "id": "f24a0c6c-ec07-4ad8-90e7-b49df87da6d7",
   "metadata": {},
   "outputs": [],
   "source": []
  },
  {
   "cell_type": "code",
   "execution_count": 5,
   "id": "9c3b04a2-20ef-42e4-a3a0-6930a8ac9f96",
   "metadata": {
    "tags": []
   },
   "outputs": [
    {
     "data": {
      "image/png": "[encoded data removed]",
      "text/plain": [
       "<Figure size 1200x300 with 4 Axes>"
      ]
     },
     "metadata": {},
     "output_type": "display_data"
    }
   ],
   "source": [
    "loaders.train.show_batch(max_n=4, nrows=1)"
   ]
  },
  {
   "cell_type": "code",
   "execution_count": null,
   "id": "efd74751-208c-4d09-9ae7-a0591783ceef",
   "metadata": {},
   "outputs": [],
   "source": []
  },
  {
   "cell_type": "code",
   "execution_count": 13,
   "id": "2054a068-29a3-4954-8c23-19766989509b",
   "metadata": {
    "tags": []
   },
   "outputs": [
    {
     "name": "stdout",
     "output_type": "stream",
     "text": [
      "<class 'torchvision.models.squeezenet.SqueezeNet'>\n"
     ]
    }
   ],
   "source": [
    "# squeezenet default fast ai learner\n",
    "learn = vision_learner(loaders, squeezenet1_0, loss_func=nn.CrossEntropyLoss(), metrics=accuracy)\n"
   ]
  },
  {
   "cell_type": "code",
   "execution_count": null,
   "id": "d138e791-5ff2-418f-854f-516972a24f5d",
   "metadata": {},
   "outputs": [],
   "source": []
  },
  {
   "cell_type": "code",
   "execution_count": 7,
   "id": "0e800df4-7787-48c2-bb6c-94b0e47610cb",
   "metadata": {
    "tags": []
   },
   "outputs": [
    {
     "data": {
      "text/html": [
       "\n",
       "<style>\n",
       "    /* Turns off some styling */\n",
       "    progress {\n",
       "        /* gets rid of default border in Firefox and Opera. */\n",
       "        border: none;\n",
       "        /* Needs to be in here for Safari polyfill so background images work as expected. */\n",
       "        background-size: auto;\n",
       "    }\n",
       "    progress:not([value]), progress:not([value])::-webkit-progress-bar {\n",
       "        background: repeating-linear-gradient(45deg, #7e7e7e, #7e7e7e 10px, #5c5c5c 10px, #5c5c5c 20px);\n",
       "    }\n",
       "    .progress-bar-interrupted, .progress-bar-interrupted::-webkit-progress-bar {\n",
       "        background: #F44336;\n",
       "    }\n",
       "</style>\n"
      ],
      "text/plain": [
       "<IPython.core.display.HTML object>"
      ]
     },
     "metadata": {},
     "output_type": "display_data"
    },
    {
     "data": {
      "text/html": [],
      "text/plain": [
       "<IPython.core.display.HTML object>"
      ]
     },
     "metadata": {},
     "output_type": "display_data"
    },
    {
     "data": {
      "text/plain": [
       "Sequential (Input shape: 64 x 3 x 28 x 28)\n",
       "============================================================================\n",
       "Layer (type)         Output Shape         Param #    Trainable \n",
       "============================================================================\n",
       "                     64 x 96 x 11 x 11   \n",
       "Conv2d                                    14208      False     \n",
       "ReLU                                                           \n",
       "____________________________________________________________________________\n",
       "                     64 x 96 x 5 x 5     \n",
       "MaxPool2d                                                      \n",
       "____________________________________________________________________________\n",
       "                     64 x 16 x 5 x 5     \n",
       "Conv2d                                    1552       False     \n",
       "ReLU                                                           \n",
       "____________________________________________________________________________\n",
       "                     64 x 64 x 5 x 5     \n",
       "Conv2d                                    1088       False     \n",
       "ReLU                                                           \n",
       "Conv2d                                    9280       False     \n",
       "ReLU                                                           \n",
       "____________________________________________________________________________\n",
       "                     64 x 16 x 5 x 5     \n",
       "Conv2d                                    2064       False     \n",
       "ReLU                                                           \n",
       "____________________________________________________________________________\n",
       "                     64 x 64 x 5 x 5     \n",
       "Conv2d                                    1088       False     \n",
       "ReLU                                                           \n",
       "Conv2d                                    9280       False     \n",
       "ReLU                                                           \n",
       "____________________________________________________________________________\n",
       "                     64 x 32 x 5 x 5     \n",
       "Conv2d                                    4128       False     \n",
       "ReLU                                                           \n",
       "____________________________________________________________________________\n",
       "                     64 x 128 x 5 x 5    \n",
       "Conv2d                                    4224       False     \n",
       "ReLU                                                           \n",
       "Conv2d                                    36992      False     \n",
       "ReLU                                                           \n",
       "____________________________________________________________________________\n",
       "                     64 x 256 x 2 x 2    \n",
       "MaxPool2d                                                      \n",
       "____________________________________________________________________________\n",
       "                     64 x 32 x 2 x 2     \n",
       "Conv2d                                    8224       False     \n",
       "ReLU                                                           \n",
       "____________________________________________________________________________\n",
       "                     64 x 128 x 2 x 2    \n",
       "Conv2d                                    4224       False     \n",
       "ReLU                                                           \n",
       "Conv2d                                    36992      False     \n",
       "ReLU                                                           \n",
       "____________________________________________________________________________\n",
       "                     64 x 48 x 2 x 2     \n",
       "Conv2d                                    12336      False     \n",
       "ReLU                                                           \n",
       "____________________________________________________________________________\n",
       "                     64 x 192 x 2 x 2    \n",
       "Conv2d                                    9408       False     \n",
       "ReLU                                                           \n",
       "Conv2d                                    83136      False     \n",
       "ReLU                                                           \n",
       "____________________________________________________________________________\n",
       "                     64 x 48 x 2 x 2     \n",
       "Conv2d                                    18480      False     \n",
       "ReLU                                                           \n",
       "____________________________________________________________________________\n",
       "                     64 x 192 x 2 x 2    \n",
       "Conv2d                                    9408       False     \n",
       "ReLU                                                           \n",
       "Conv2d                                    83136      False     \n",
       "ReLU                                                           \n",
       "____________________________________________________________________________\n",
       "                     64 x 64 x 2 x 2     \n",
       "Conv2d                                    24640      False     \n",
       "ReLU                                                           \n",
       "____________________________________________________________________________\n",
       "                     64 x 256 x 2 x 2    \n",
       "Conv2d                                    16640      False     \n",
       "ReLU                                                           \n",
       "Conv2d                                    147712     False     \n",
       "ReLU                                                           \n",
       "____________________________________________________________________________\n",
       "                     64 x 512 x 1 x 1    \n",
       "MaxPool2d                                                      \n",
       "____________________________________________________________________________\n",
       "                     64 x 64 x 1 x 1     \n",
       "Conv2d                                    32832      False     \n",
       "ReLU                                                           \n",
       "____________________________________________________________________________\n",
       "                     64 x 256 x 1 x 1    \n",
       "Conv2d                                    16640      False     \n",
       "ReLU                                                           \n",
       "Conv2d                                    147712     False     \n",
       "ReLU                                                           \n",
       "AdaptiveAvgPool2d                                              \n",
       "AdaptiveMaxPool2d                                              \n",
       "____________________________________________________________________________\n",
       "                     64 x 1024           \n",
       "Flatten                                                        \n",
       "BatchNorm1d                               2048       True      \n",
       "Dropout                                                        \n",
       "____________________________________________________________________________\n",
       "                     64 x 512            \n",
       "Linear                                    524288     True      \n",
       "ReLU                                                           \n",
       "BatchNorm1d                               1024       True      \n",
       "Dropout                                                        \n",
       "____________________________________________________________________________\n",
       "                     64 x 10             \n",
       "Linear                                    5120       True      \n",
       "____________________________________________________________________________\n",
       "\n",
       "Total params: 1,267,904\n",
       "Total trainable params: 532,480\n",
       "Total non-trainable params: 735,424\n",
       "\n",
       "Optimizer used: <function Adam at 0x7f985bbf6dc0>\n",
       "Loss function: CrossEntropyLoss()\n",
       "\n",
       "Model frozen up to parameter group #2\n",
       "\n",
       "Callbacks:\n",
       "  - TrainEvalCallback\n",
       "  - CastToTensor\n",
       "  - Recorder\n",
       "  - ProgressCallback"
      ]
     },
     "execution_count": 7,
     "metadata": {},
     "output_type": "execute_result"
    }
   ],
   "source": [
    "learn.summary()"
   ]
  },
  {
   "cell_type": "code",
   "execution_count": 11,
   "id": "8b499e25-59d8-4cb3-b63f-772570f77631",
   "metadata": {},
   "outputs": [
    {
     "name": "stdout",
     "output_type": "stream",
     "text": [
      "<class 'torch.nn.modules.container.Sequential'>\n"
     ]
    }
   ],
   "source": []
  },
  {
   "cell_type": "code",
   "execution_count": 8,
   "id": "71bd53ea-a01d-4f41-8e4a-2fc485c7b489",
   "metadata": {
    "tags": []
   },
   "outputs": [
    {
     "data": {
      "text/html": [
       "\n",
       "<style>\n",
       "    /* Turns off some styling */\n",
       "    progress {\n",
       "        /* gets rid of default border in Firefox and Opera. */\n",
       "        border: none;\n",
       "        /* Needs to be in here for Safari polyfill so background images work as expected. */\n",
       "        background-size: auto;\n",
       "    }\n",
       "    progress:not([value]), progress:not([value])::-webkit-progress-bar {\n",
       "        background: repeating-linear-gradient(45deg, #7e7e7e, #7e7e7e 10px, #5c5c5c 10px, #5c5c5c 20px);\n",
       "    }\n",
       "    .progress-bar-interrupted, .progress-bar-interrupted::-webkit-progress-bar {\n",
       "        background: #F44336;\n",
       "    }\n",
       "</style>\n"
      ],
      "text/plain": [
       "<IPython.core.display.HTML object>"
      ]
     },
     "metadata": {},
     "output_type": "display_data"
    },
    {
     "data": {
      "text/html": [
       "<table border=\"1\" class=\"dataframe\">\n",
       "  <thead>\n",
       "    <tr style=\"text-align: left;\">\n",
       "      <th>epoch</th>\n",
       "      <th>train_loss</th>\n",
       "      <th>valid_loss</th>\n",
       "      <th>accuracy</th>\n",
       "      <th>time</th>\n",
       "    </tr>\n",
       "  </thead>\n",
       "  <tbody>\n",
       "    <tr>\n",
       "      <td>0</td>\n",
       "      <td>0.630520</td>\n",
       "      <td>1.301397</td>\n",
       "      <td>0.864000</td>\n",
       "      <td>01:40</td>\n",
       "    </tr>\n",
       "  </tbody>\n",
       "</table>"
      ],
      "text/plain": [
       "<IPython.core.display.HTML object>"
      ]
     },
     "metadata": {},
     "output_type": "display_data"
    }
   ],
   "source": [
    "learn.fit_one_cycle(1)"
   ]
  },
  {
   "cell_type": "code",
   "execution_count": 37,
   "id": "f254d60f-f7c8-4b98-b689-8a3801638483",
   "metadata": {},
   "outputs": [
    {
     "name": "stdout",
     "output_type": "stream",
     "text": [
      "<class 'torch.nn.modules.container.Sequential'>\n"
     ]
    }
   ],
   "source": [
    "print(type(learn.model))"
   ]
  },
  {
   "cell_type": "code",
   "execution_count": 43,
   "id": "cd02f332-f103-40ec-a660-5195717044f1",
   "metadata": {},
   "outputs": [
    {
     "name": "stdout",
     "output_type": "stream",
     "text": [
      "<class 'torch.nn.modules.container.Sequential'>\n"
     ]
    }
   ],
   "source": [
    "pytorch_model = learn.model #.eval()\n",
    "print(type(pytorch_model))"
   ]
  },
  {
   "cell_type": "code",
   "execution_count": 44,
   "id": "db090276-41c5-4fc5-9ef1-ac5ca23211dd",
   "metadata": {},
   "outputs": [
    {
     "name": "stdout",
     "output_type": "stream",
     "text": [
      "0.0.0.weight\n",
      "0.0.0.bias\n",
      "0.0.3.squeeze.weight\n",
      "0.0.3.squeeze.bias\n",
      "0.0.3.expand1x1.weight\n",
      "0.0.3.expand1x1.bias\n",
      "0.0.3.expand3x3.weight\n",
      "0.0.3.expand3x3.bias\n",
      "0.0.4.squeeze.weight\n",
      "0.0.4.squeeze.bias\n",
      "0.0.4.expand1x1.weight\n",
      "0.0.4.expand1x1.bias\n",
      "0.0.4.expand3x3.weight\n",
      "0.0.4.expand3x3.bias\n",
      "0.0.5.squeeze.weight\n",
      "0.0.5.squeeze.bias\n",
      "0.0.5.expand1x1.weight\n",
      "0.0.5.expand1x1.bias\n",
      "0.0.5.expand3x3.weight\n",
      "0.0.5.expand3x3.bias\n",
      "0.0.7.squeeze.weight\n",
      "0.0.7.squeeze.bias\n",
      "0.0.7.expand1x1.weight\n",
      "0.0.7.expand1x1.bias\n",
      "0.0.7.expand3x3.weight\n",
      "0.0.7.expand3x3.bias\n",
      "0.0.8.squeeze.weight\n",
      "0.0.8.squeeze.bias\n",
      "0.0.8.expand1x1.weight\n",
      "0.0.8.expand1x1.bias\n",
      "0.0.8.expand3x3.weight\n",
      "0.0.8.expand3x3.bias\n",
      "0.0.9.squeeze.weight\n",
      "0.0.9.squeeze.bias\n",
      "0.0.9.expand1x1.weight\n",
      "0.0.9.expand1x1.bias\n",
      "0.0.9.expand3x3.weight\n",
      "0.0.9.expand3x3.bias\n",
      "0.0.10.squeeze.weight\n",
      "0.0.10.squeeze.bias\n",
      "0.0.10.expand1x1.weight\n",
      "0.0.10.expand1x1.bias\n",
      "0.0.10.expand3x3.weight\n",
      "0.0.10.expand3x3.bias\n",
      "0.0.12.squeeze.weight\n",
      "0.0.12.squeeze.bias\n",
      "0.0.12.expand1x1.weight\n",
      "0.0.12.expand1x1.bias\n",
      "0.0.12.expand3x3.weight\n",
      "0.0.12.expand3x3.bias\n",
      "1.2.weight\n",
      "1.2.bias\n",
      "1.2.running_mean\n",
      "1.2.running_var\n",
      "1.2.num_batches_tracked\n",
      "1.4.weight\n",
      "1.6.weight\n",
      "1.6.bias\n",
      "1.6.running_mean\n",
      "1.6.running_var\n",
      "1.6.num_batches_tracked\n",
      "1.8.weight\n"
     ]
    }
   ],
   "source": [
    "for obj in pytorch_model.state_dict():\n",
    "    print(obj, "
   ]
  },
  {
   "cell_type": "code",
   "execution_count": 45,
   "id": "a4b4b263-d965-4b28-a180-a756a90f9e9d",
   "metadata": {},
   "outputs": [],
   "source": [
    "torch.save(pytorch_model, \"data/fastai_mnist.pt\")"
   ]
  },
  {
   "cell_type": "code",
   "execution_count": 59,
   "id": "4936257b-71e0-4d2a-bf6b-dba546df6762",
   "metadata": {},
   "outputs": [],
   "source": [
    "pm = torch.load(\"data/fastai_mnist.pt\")"
   ]
  },
  {
   "cell_type": "code",
   "execution_count": 47,
   "id": "946e9cb2-0dba-494e-a690-8516b9cc3d20",
   "metadata": {},
   "outputs": [
    {
     "name": "stdout",
     "output_type": "stream",
     "text": [
      "<class 'torch.nn.modules.container.Sequential'>\n"
     ]
    }
   ],
   "source": [
    "print(type(pm))"
   ]
  },
  {
   "cell_type": "code",
   "execution_count": 58,
   "id": "3673b020-029c-4ac8-99f9-5fb1f83163b1",
   "metadata": {},
   "outputs": [
    {
     "name": "stdout",
     "output_type": "stream",
     "text": [
      "2\n",
      "<class 'fastai.torch_core.TensorImage'> torch.Size([64, 3, 28, 28])\n",
      "<class 'fastai.torch_core.TensorCategory'> torch.Size([64])\n",
      "TensorCategory(5)\n",
      "<class 'fastai.torch_core.TensorBase'> torch.Size([64, 10])\n",
      "TensorBase([-51.5757,   9.9269,   0.1997, -30.0646, -10.3557,  51.0324,\n",
      "             -7.8981, -17.8561,   1.7871, -14.3553], grad_fn=<AliasBackward0>)\n"
     ]
    }
   ],
   "source": [
    "b = loaders.one_batch()\n",
    "print(len(b))\n",
    "print( type(b[0]), b[0].shape)\n",
    "print( type(b[1]), b[1].shape)\n",
    "print( b[1][0] )\n",
    "o = pm(b[0])\n",
    "print( type(o), o.shape)\n",
    "print(o[0])\n"
   ]
  },
  {
   "cell_type": "code",
   "execution_count": 36,
   "id": "93191801-9529-4c1b-8045-c11abdf2f7c2",
   "metadata": {},
   "outputs": [
    {
     "name": "stdout",
     "output_type": "stream",
     "text": [
      "<class 'fastai.torch_core.TensorBase'>\n"
     ]
    }
   ],
   "source": []
  },
  {
   "cell_type": "code",
   "execution_count": null,
   "id": "367f4bfe-7b26-405a-a584-ca026d5345d2",
   "metadata": {},
   "outputs": [],
   "source": []
  }
 ],
 "metadata": {
  "kernelspec": {
   "display_name": "Python 3 (ipykernel)",
   "language": "python",
   "name": "python3"
  },
  "language_info": {
   "codemirror_mode": {
    "name": "ipython",
    "version": 3
   },
   "file_extension": ".py",
   "mimetype": "text/x-python",
   "name": "python",
   "nbconvert_exporter": "python",
   "pygments_lexer": "ipython3",
   "version": "3.8.16"
  }
 },
 "nbformat": 4,
 "nbformat_minor": 5
}
