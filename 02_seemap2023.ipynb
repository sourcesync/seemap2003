{
 "cells": [
  {
   "cell_type": "markdown",
   "id": "0df0e932-bdc8-43c6-b0f2-008a6e5d79f4",
   "metadata": {},
   "source": [
    "# Let's Continue Our Machine Learning Journey With Transfer Learning In Computer Vision In Pytorch.\n",
    "# In This Notebook You Will:\n",
    "### &emsp;- Learn Some Basics About Transfer Learning And Fine-Tuning\n",
    "### &emsp;- Write And Run Some Pytorch Code\n",
    "### &emsp;- Leverage the \"Data/Train/Evaluate\" Pipeline\n",
    "### &emsp;- Deploy The Model To The Edge ( Jetson NANO )"
   ]
  },
  {
   "cell_type": "markdown",
   "id": "8f3ca6b6-9863-4cb8-b7a4-9f24f2a2d079",
   "metadata": {},
   "source": [
    "# First, Let's Discuss Why Transfer Learning Is Important...\n",
    "\n",
    "### &emsp;- Training Models From Scratch Is Often Not Necessary\n",
    "\n",
    "### &emsp;- Many Pre-Trained Base Or \"Foundation\" Models Exist And Can Be \"Fine-Tuned\" On Your Data\n",
    "\n",
    "### &emsp;- Fine-Tuning Will Take Fewer Resources And Can Address Data Transport Concerns"
   ]
  },
  {
   "cell_type": "markdown",
   "id": "d078866e-0b44-4090-a53d-f82855f73be4",
   "metadata": {},
   "source": [
    "# Why Pytorch?\n",
    "\n",
    "### &emsp;- The most popular ML framework \n",
    "\n",
    "### &emsp;- Deep Traction In Industry and Academia\n",
    "\n",
    "### &emsp;- All Research Papers Worth Considering Publish Code In Pytorch "
   ]
  },
  {
   "cell_type": "markdown",
   "id": "f7d9092c-8e04-468d-80e6-7debdc5ab6de",
   "metadata": {},
   "source": [
    "# We Will Use the Pipeline You Are Already Familiar With...<img src=\"images/clean_pipeline.png\">"
   ]
  },
  {
   "cell_type": "markdown",
   "id": "ce66a161-41ef-4983-bb52-55abda7fc554",
   "metadata": {},
   "source": [
    "# Let's Go Through The Specific Python Packages We Will Need In This Notebook..."
   ]
  },
  {
   "cell_type": "code",
   "execution_count": 40,
   "id": "fddb2430-63e1-4609-853d-04300079f282",
   "metadata": {},
   "outputs": [],
   "source": [
    "#\n",
    "# Import python packages\n",
    "#\n",
    "\n",
    "#from __future__ import print_function, division\n",
    "\n",
    "# useful system and \"builtin\" packages\n",
    "import time\n",
    "import os\n",
    "import copy\n",
    "\n",
    "# math and data science related\n",
    "import numpy as np\n",
    "import matplotlib.pyplot as plt\n",
    "\n",
    "# pytorch packages\n",
    "import torch\n",
    "import torch.nn as nn\n",
    "import torch.optim as optim\n",
    "from torch.optim import lr_scheduler\n",
    "import torch.backends.cudnn as cudnn\n",
    "import torchvision\n",
    "from torchvision import datasets, models, transforms\n",
    "\n",
    "#cudnn.benchmark = True\n",
    "#plt.ion()   # interactive plotting mode"
   ]
  },
  {
   "cell_type": "markdown",
   "id": "e307831c-ce5c-42db-8c26-0ae4565e0abd",
   "metadata": {},
   "source": [
    "# Load A Dataset In Pytorch...\n",
    "<img src=\"images/all-data-pipeline.png\">"
   ]
  },
  {
   "cell_type": "code",
   "execution_count": 41,
   "id": "7190257d-7775-43d0-924a-3896ac36afab",
   "metadata": {},
   "outputs": [],
   "source": [
    "# Data augmentation and normalization for training\n",
    "# Just normalization for validation\n",
    "data_transforms = {\n",
    "    'train': transforms.Compose([\n",
    "        transforms.RandomResizedCrop(224),\n",
    "        transforms.RandomHorizontalFlip(),\n",
    "        transforms.ToTensor(),\n",
    "        transforms.Normalize([0.485, 0.456, 0.406], [0.229, 0.224, 0.225])\n",
    "    ]),\n",
    "    'val': transforms.Compose([\n",
    "        transforms.Resize(256),\n",
    "        transforms.CenterCrop(224),\n",
    "        transforms.ToTensor(),\n",
    "        transforms.Normalize([0.485, 0.456, 0.406], [0.229, 0.224, 0.225])\n",
    "    ]),\n",
    "}\n",
    "\n",
    "data_dir = 'data/hymenoptera_data'\n",
    "image_datasets = {x: datasets.ImageFolder(os.path.join(data_dir, x),\n",
    "                                          data_transforms[x])\n",
    "                  for x in ['train', 'val']}\n",
    "dataloaders = {x: torch.utils.data.DataLoader(image_datasets[x], batch_size=4,\n",
    "                                             shuffle=True, num_workers=4)\n",
    "              for x in ['train', 'val']}\n",
    "dataset_sizes = {x: len(image_datasets[x]) for x in ['train', 'val']}\n",
    "class_names = image_datasets['train'].classes\n",
    "\n",
    "#device = torch.device(\"cuda:0\" if torch.cuda.is_available() else \"cpu\")"
   ]
  },
  {
   "cell_type": "markdown",
   "id": "ec7a41c6-a5d4-48e3-a2bf-fe9c218791a6",
   "metadata": {},
   "source": [
    "# If Possible, Always Visualize Your Data Before You Train..."
   ]
  },
  {
   "cell_type": "code",
   "execution_count": null,
   "id": "ea4de66a-4998-46a9-837a-801daa732fe3",
   "metadata": {},
   "outputs": [],
   "source": [
    "def imshow(inp, title=None):\n",
    "    \"\"\"Display image for Tensor.\"\"\"\n",
    "    inp = inp.numpy().transpose((1, 2, 0))\n",
    "    mean = np.array([0.485, 0.456, 0.406])\n",
    "    std = np.array([0.229, 0.224, 0.225])\n",
    "    inp = std * inp + mean\n",
    "    inp = np.clip(inp, 0, 1)\n",
    "    plt.imshow(inp)\n",
    "    if title is not None:\n",
    "        plt.title(title)\n",
    "    plt.pause(0.001)  # pause a bit so that plots are updated\n",
    "\n",
    "\n",
    "# Get a batch of training data\n",
    "inputs, classes = next(iter(dataloaders['train']))\n",
    "\n",
    "# Make a grid from batch\n",
    "out = torchvision.utils.make_grid(inputs)\n",
    "\n",
    "imshow(out, title=[class_names[x] for x in classes])"
   ]
  },
  {
   "cell_type": "markdown",
   "id": "db5faf20-478a-4330-ae9e-834cbc82e35d",
   "metadata": {},
   "source": [
    "# Fine-Tune A Model In Pytorch...\n",
    "<img src=\"images/all-train-pipeline.png\">"
   ]
  },
  {
   "cell_type": "code",
   "execution_count": null,
   "id": "be1c4da0-665d-47a3-8457-2ffd4a7f01cd",
   "metadata": {},
   "outputs": [],
   "source": [
    "#\n",
    "# Here we are choosing a pre-trained model and\n",
    "# setting up training parameters.\n",
    "#\n",
    "\n",
    "model_ft = models.resnet18(weights='IMAGENET1K_V1')\n",
    "num_ftrs = model_ft.fc.in_features\n",
    "# Here the size of each output sample is set to 2.\n",
    "# Alternatively, it can be generalized to ``nn.Linear(num_ftrs, len(class_names))``.\n",
    "model_ft.fc = nn.Linear(num_ftrs, 2)\n",
    "\n",
    "model_ft = model_ft.to(device)\n",
    "\n",
    "criterion = nn.CrossEntropyLoss()\n",
    "\n",
    "# Observe that all parameters are being optimized\n",
    "optimizer_ft = optim.SGD(model_ft.parameters(), lr=0.001, momentum=0.9)\n",
    "\n",
    "# Decay LR by a factor of 0.1 every 7 epochs\n",
    "exp_lr_scheduler = lr_scheduler.StepLR(optimizer_ft, step_size=7, gamma=0.1)\n",
    "\n",
    "model_ft.eval()"
   ]
  },
  {
   "cell_type": "code",
   "execution_count": null,
   "id": "7ca1d208-a063-464e-9d24-0e25ac31845f",
   "metadata": {},
   "outputs": [],
   "source": [
    "#\n",
    "# Here we are defining our training loop\n",
    "#\n",
    "\n",
    "def train_model(model, criterion, optimizer, scheduler, num_epochs=25):\n",
    "    since = time.time()\n",
    "\n",
    "    best_model_wts = copy.deepcopy(model.state_dict())\n",
    "    best_acc = 0.0\n",
    "\n",
    "    for epoch in range(num_epochs):\n",
    "        print(f'Epoch {epoch}/{num_epochs - 1}')\n",
    "        print('-' * 10)\n",
    "\n",
    "        # Each epoch has a training and validation phase\n",
    "        for phase in ['train', 'val']:\n",
    "            if phase == 'train':\n",
    "                model.train()  # Set model to training mode\n",
    "            else:\n",
    "                model.eval()   # Set model to evaluate mode\n",
    "\n",
    "            running_loss = 0.0\n",
    "            running_corrects = 0\n",
    "\n",
    "            # Iterate over data.\n",
    "            for inputs, labels in dataloaders[phase]:\n",
    "                inputs = inputs.to(device)\n",
    "                labels = labels.to(device)\n",
    "\n",
    "                # zero the parameter gradients\n",
    "                optimizer.zero_grad()\n",
    "\n",
    "                # forward\n",
    "                # track history if only in train\n",
    "                with torch.set_grad_enabled(phase == 'train'):\n",
    "                    outputs = model(inputs)\n",
    "                    _, preds = torch.max(outputs, 1)\n",
    "                    loss = criterion(outputs, labels)\n",
    "\n",
    "                    # backward + optimize only if in training phase\n",
    "                    if phase == 'train':\n",
    "                        loss.backward()\n",
    "                        optimizer.step()\n",
    "\n",
    "                # statistics\n",
    "                running_loss += loss.item() * inputs.size(0)\n",
    "                running_corrects += torch.sum(preds == labels.data)\n",
    "            if phase == 'train':\n",
    "                scheduler.step()\n",
    "\n",
    "            epoch_loss = running_loss / dataset_sizes[phase]\n",
    "            epoch_acc = running_corrects.double() / dataset_sizes[phase]\n",
    "\n",
    "            print(f'{phase} Loss: {epoch_loss:.4f} Acc: {epoch_acc:.4f}')\n",
    "\n",
    "            # deep copy the model\n",
    "            if phase == 'val' and epoch_acc > best_acc:\n",
    "                best_acc = epoch_acc\n",
    "                best_model_wts = copy.deepcopy(model.state_dict())\n",
    "\n",
    "        print()\n",
    "\n",
    "    time_elapsed = time.time() - since\n",
    "    print(f'Training complete in {time_elapsed // 60:.0f}m {time_elapsed % 60:.0f}s')\n",
    "    print(f'Best val Acc: {best_acc:4f}')\n",
    "\n",
    "    # load best model weights\n",
    "    model.load_state_dict(best_model_wts)\n",
    "    return model"
   ]
  },
  {
   "cell_type": "code",
   "execution_count": null,
   "id": "71009309-fd0c-4a15-9de2-d00880edc467",
   "metadata": {},
   "outputs": [],
   "source": [
    "#\n",
    "# Now lets fine-tune it on the data!\n",
    "#\n",
    "\n",
    "if os.path.exists(\"data/seemap2023_ft.pt\"):\n",
    "    print(\"Found model, loading...\")\n",
    "    model_ft = torch.load(\"data/seemap2023_ft.pt\")\n",
    "    \n",
    "else:\n",
    "    print(\"Fine tuning model...\")\n",
    "    model_ft = train_model(model_ft, criterion, optimizer_ft, exp_lr_scheduler, num_epochs=25)\n",
    "    torch.save(model_ft, \"data/seemap2023_ft.pt\")"
   ]
  },
  {
   "cell_type": "markdown",
   "id": "aa3fc66f-8b57-4831-8966-080541ca3694",
   "metadata": {},
   "source": [
    "# Evaluate The Fine-Tuned Model In Pytorch...\n",
    "<img src=\"images/eval-model.png\">"
   ]
  },
  {
   "cell_type": "code",
   "execution_count": null,
   "id": "6ab2b0c8-2adf-46ea-b5ad-0f63ac02296b",
   "metadata": {},
   "outputs": [],
   "source": [
    "#\n",
    "# Define a function which evaluates the model on randomly chosen\n",
    "# data from the test set.\n",
    "#\n",
    "\n",
    "def visualize_model(model, num_images=6):\n",
    "    was_training = model.training\n",
    "    model.eval()\n",
    "    images_so_far = 0\n",
    "    fig = plt.figure()\n",
    "\n",
    "    with torch.no_grad():\n",
    "        for i, (inputs, labels) in enumerate(dataloaders['val']):\n",
    "            inputs = inputs.to(device)\n",
    "            labels = labels.to(device)\n",
    "\n",
    "            outputs = model(inputs)\n",
    "            _, preds = torch.max(outputs, 1)\n",
    "\n",
    "            for j in range(inputs.size()[0]):\n",
    "                images_so_far += 1\n",
    "                ax = plt.subplot(num_images//2, 2, images_so_far)\n",
    "                ax.axis('off')\n",
    "                ax.set_title(f'predicted: {class_names[preds[j]]}')\n",
    "                imshow(inputs.cpu().data[j])\n",
    "\n",
    "                if images_so_far == num_images:\n",
    "                    model.train(mode=was_training)\n",
    "                    return\n",
    "        model.train(mode=was_training)"
   ]
  },
  {
   "cell_type": "code",
   "execution_count": null,
   "id": "efdbc0d0-d5b1-4474-927b-2a2fd3ce266c",
   "metadata": {},
   "outputs": [],
   "source": [
    "visualize_model(model_ft)\n",
    "\n",
    "plt.ioff()\n",
    "plt.show()"
   ]
  },
  {
   "cell_type": "markdown",
   "id": "223424a5-8699-49d1-9e67-87dc826a5574",
   "metadata": {},
   "source": [
    "# Now Let's Deploy The Trained Model To Your NVidia Jetson NANO..."
   ]
  },
  {
   "cell_type": "markdown",
   "id": "c00472de-0b36-43b4-b90f-a234ced9460f",
   "metadata": {},
   "source": [
    "<img src=\"images/nano.jpg\">"
   ]
  }
 ],
 "metadata": {
  "kernelspec": {
   "display_name": "Python 3 (ipykernel)",
   "language": "python",
   "name": "python3"
  },
  "language_info": {
   "codemirror_mode": {
    "name": "ipython",
    "version": 3
   },
   "file_extension": ".py",
   "mimetype": "text/x-python",
   "name": "python",
   "nbconvert_exporter": "python",
   "pygments_lexer": "ipython3",
   "version": "3.8.16"
  }
 },
 "nbformat": 4,
 "nbformat_minor": 5
}
