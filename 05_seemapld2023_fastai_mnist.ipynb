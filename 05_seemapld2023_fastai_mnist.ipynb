{
 "cells": [
  {
   "cell_type": "markdown",
   "id": "0405f440-3663-4e44-968f-d3a308390ce3",
   "metadata": {},
   "source": [
    "<img src=\"images/seemapldbig.png\">"
   ]
  },
  {
   "cell_type": "markdown",
   "id": "592ff433-b4df-4920-9fdf-0e8e49fc9148",
   "metadata": {},
   "source": [
    "# Please wait for instructor and don't skip ahead during the workshop!"
   ]
  },
  {
   "cell_type": "markdown",
   "id": "8712eb5a-2415-472c-b0be-95c23a2f1682",
   "metadata": {},
   "source": [
    "# Python packages we will need in this notebook"
   ]
  },
  {
   "cell_type": "code",
   "execution_count": 160,
   "id": "81e34959-886a-4e57-a62b-eea8ae963508",
   "metadata": {
    "tags": []
   },
   "outputs": [
    {
     "name": "stdout",
     "output_type": "stream",
     "text": [
      "Using cpu\n",
      "2.7.10\n"
     ]
    }
   ],
   "source": [
    "import torch\n",
    "import math\n",
    " \n",
    "import timm\n",
    "from fastai.vision.all import *\n",
    "\n",
    "if torch.backends.mps.is_available() and torch.backends.mps.is_built():\n",
    "    print(\"Found mps\")\n",
    "    default_device(torch.device(\"mps\"))\n",
    "else:\n",
    "    print(\"Using cpu\")\n",
    "    default_device(torch.device(\"cpu\"))\n",
    "  "
   ]
  },
  {
   "cell_type": "markdown",
   "id": "e243837c-6449-4fa2-81a0-1129a301c83d",
   "metadata": {},
   "source": [
    "# Let's get the dataset"
   ]
  },
  {
   "cell_type": "code",
   "execution_count": 68,
   "id": "060a1cba-f1bf-4644-98b0-9e9d45155fc1",
   "metadata": {
    "tags": []
   },
   "outputs": [
    {
     "name": "stdout",
     "output_type": "stream",
     "text": [
      "/Users/gwilliams/.fastai/data/mnist_png\n"
     ]
    }
   ],
   "source": [
    "path = untar_data(URLs.MNIST)\n",
    "print(path)"
   ]
  },
  {
   "cell_type": "markdown",
   "id": "989a078b-5ce1-48e2-848e-0b1b93617950",
   "metadata": {},
   "source": [
    "# Split the data into training and validation"
   ]
  },
  {
   "cell_type": "code",
   "execution_count": 69,
   "id": "19f592c7-97b4-488e-afef-62dc34c399b5",
   "metadata": {
    "tags": []
   },
   "outputs": [],
   "source": [
    "block = DataBlock(\n",
    "        blocks=(ImageBlock, CategoryBlock),\n",
    "        get_items=get_image_files,\n",
    "        splitter=RandomSplitter(valid_pct=0.2, seed=42),\n",
    "        get_y=parent_label)\n"
   ]
  },
  {
   "cell_type": "markdown",
   "id": "19a512ae-442f-494b-a8c4-eba9040ab13d",
   "metadata": {},
   "source": [
    "# Let's look at some of the training data"
   ]
  },
  {
   "cell_type": "code",
   "execution_count": 70,
   "id": "77a50a3d-50c2-4ae7-864d-e52ed8fbe91a",
   "metadata": {},
   "outputs": [],
   "source": [
    "loaders = block.dataloaders(path/\"training\")"
   ]
  },
  {
   "cell_type": "code",
   "execution_count": 71,
   "id": "9c3b04a2-20ef-42e4-a3a0-6930a8ac9f96",
   "metadata": {
    "tags": []
   },
   "outputs": [
    {
     "data": {
      "image/png": "[encoded data removed]",
      "text/plain": [
       "<Figure size 1200x300 with 4 Axes>"
      ]
     },
     "metadata": {},
     "output_type": "display_data"
    }
   ],
   "source": [
    "loaders.train.show_batch(max_n=4, nrows=1)"
   ]
  },
  {
   "cell_type": "markdown",
   "id": "265f2dca-353a-4cc2-9dc5-9fb599a1c88e",
   "metadata": {},
   "source": [
    "# Let's prepare a neural network for training"
   ]
  },
  {
   "cell_type": "code",
   "execution_count": 72,
   "id": "2054a068-29a3-4954-8c23-19766989509b",
   "metadata": {
    "tags": []
   },
   "outputs": [],
   "source": [
    "# squeezenet default fast ai learner\n",
    "learn = vision_learner(loaders, squeezenet1_0, loss_func=nn.CrossEntropyLoss(), metrics=accuracy)\n"
   ]
  },
  {
   "cell_type": "markdown",
   "id": "1e9caaec-9816-40a7-af8b-b3779cf7ad49",
   "metadata": {},
   "source": [
    "# Get some details about the training"
   ]
  },
  {
   "cell_type": "code",
   "execution_count": 73,
   "id": "0e800df4-7787-48c2-bb6c-94b0e47610cb",
   "metadata": {
    "tags": []
   },
   "outputs": [
    {
     "data": {
      "text/html": [
       "\n",
       "<style>\n",
       "    /* Turns off some styling */\n",
       "    progress {\n",
       "        /* gets rid of default border in Firefox and Opera. */\n",
       "        border: none;\n",
       "        /* Needs to be in here for Safari polyfill so background images work as expected. */\n",
       "        background-size: auto;\n",
       "    }\n",
       "    progress:not([value]), progress:not([value])::-webkit-progress-bar {\n",
       "        background: repeating-linear-gradient(45deg, #7e7e7e, #7e7e7e 10px, #5c5c5c 10px, #5c5c5c 20px);\n",
       "    }\n",
       "    .progress-bar-interrupted, .progress-bar-interrupted::-webkit-progress-bar {\n",
       "        background: #F44336;\n",
       "    }\n",
       "</style>\n"
      ],
      "text/plain": [
       "<IPython.core.display.HTML object>"
      ]
     },
     "metadata": {},
     "output_type": "display_data"
    },
    {
     "data": {
      "text/html": [],
      "text/plain": [
       "<IPython.core.display.HTML object>"
      ]
     },
     "metadata": {},
     "output_type": "display_data"
    },
    {
     "data": {
      "text/plain": [
       "Sequential (Input shape: 64 x 3 x 28 x 28)\n",
       "============================================================================\n",
       "Layer (type)         Output Shape         Param #    Trainable \n",
       "============================================================================\n",
       "                     64 x 96 x 11 x 11   \n",
       "Conv2d                                    14208      False     \n",
       "ReLU                                                           \n",
       "____________________________________________________________________________\n",
       "                     64 x 96 x 5 x 5     \n",
       "MaxPool2d                                                      \n",
       "____________________________________________________________________________\n",
       "                     64 x 16 x 5 x 5     \n",
       "Conv2d                                    1552       False     \n",
       "ReLU                                                           \n",
       "____________________________________________________________________________\n",
       "                     64 x 64 x 5 x 5     \n",
       "Conv2d                                    1088       False     \n",
       "ReLU                                                           \n",
       "Conv2d                                    9280       False     \n",
       "ReLU                                                           \n",
       "____________________________________________________________________________\n",
       "                     64 x 16 x 5 x 5     \n",
       "Conv2d                                    2064       False     \n",
       "ReLU                                                           \n",
       "____________________________________________________________________________\n",
       "                     64 x 64 x 5 x 5     \n",
       "Conv2d                                    1088       False     \n",
       "ReLU                                                           \n",
       "Conv2d                                    9280       False     \n",
       "ReLU                                                           \n",
       "____________________________________________________________________________\n",
       "                     64 x 32 x 5 x 5     \n",
       "Conv2d                                    4128       False     \n",
       "ReLU                                                           \n",
       "____________________________________________________________________________\n",
       "                     64 x 128 x 5 x 5    \n",
       "Conv2d                                    4224       False     \n",
       "ReLU                                                           \n",
       "Conv2d                                    36992      False     \n",
       "ReLU                                                           \n",
       "____________________________________________________________________________\n",
       "                     64 x 256 x 2 x 2    \n",
       "MaxPool2d                                                      \n",
       "____________________________________________________________________________\n",
       "                     64 x 32 x 2 x 2     \n",
       "Conv2d                                    8224       False     \n",
       "ReLU                                                           \n",
       "____________________________________________________________________________\n",
       "                     64 x 128 x 2 x 2    \n",
       "Conv2d                                    4224       False     \n",
       "ReLU                                                           \n",
       "Conv2d                                    36992      False     \n",
       "ReLU                                                           \n",
       "____________________________________________________________________________\n",
       "                     64 x 48 x 2 x 2     \n",
       "Conv2d                                    12336      False     \n",
       "ReLU                                                           \n",
       "____________________________________________________________________________\n",
       "                     64 x 192 x 2 x 2    \n",
       "Conv2d                                    9408       False     \n",
       "ReLU                                                           \n",
       "Conv2d                                    83136      False     \n",
       "ReLU                                                           \n",
       "____________________________________________________________________________\n",
       "                     64 x 48 x 2 x 2     \n",
       "Conv2d                                    18480      False     \n",
       "ReLU                                                           \n",
       "____________________________________________________________________________\n",
       "                     64 x 192 x 2 x 2    \n",
       "Conv2d                                    9408       False     \n",
       "ReLU                                                           \n",
       "Conv2d                                    83136      False     \n",
       "ReLU                                                           \n",
       "____________________________________________________________________________\n",
       "                     64 x 64 x 2 x 2     \n",
       "Conv2d                                    24640      False     \n",
       "ReLU                                                           \n",
       "____________________________________________________________________________\n",
       "                     64 x 256 x 2 x 2    \n",
       "Conv2d                                    16640      False     \n",
       "ReLU                                                           \n",
       "Conv2d                                    147712     False     \n",
       "ReLU                                                           \n",
       "____________________________________________________________________________\n",
       "                     64 x 512 x 1 x 1    \n",
       "MaxPool2d                                                      \n",
       "____________________________________________________________________________\n",
       "                     64 x 64 x 1 x 1     \n",
       "Conv2d                                    32832      False     \n",
       "ReLU                                                           \n",
       "____________________________________________________________________________\n",
       "                     64 x 256 x 1 x 1    \n",
       "Conv2d                                    16640      False     \n",
       "ReLU                                                           \n",
       "Conv2d                                    147712     False     \n",
       "ReLU                                                           \n",
       "AdaptiveAvgPool2d                                              \n",
       "AdaptiveMaxPool2d                                              \n",
       "____________________________________________________________________________\n",
       "                     64 x 1024           \n",
       "Flatten                                                        \n",
       "BatchNorm1d                               2048       True      \n",
       "Dropout                                                        \n",
       "____________________________________________________________________________\n",
       "                     64 x 512            \n",
       "Linear                                    524288     True      \n",
       "ReLU                                                           \n",
       "BatchNorm1d                               1024       True      \n",
       "Dropout                                                        \n",
       "____________________________________________________________________________\n",
       "                     64 x 10             \n",
       "Linear                                    5120       True      \n",
       "____________________________________________________________________________\n",
       "\n",
       "Total params: 1,267,904\n",
       "Total trainable params: 532,480\n",
       "Total non-trainable params: 735,424\n",
       "\n",
       "Optimizer used: <function Adam at 0x7ff004bc85e0>\n",
       "Loss function: CrossEntropyLoss()\n",
       "\n",
       "Model frozen up to parameter group #2\n",
       "\n",
       "Callbacks:\n",
       "  - TrainEvalCallback\n",
       "  - CastToTensor\n",
       "  - Recorder\n",
       "  - ProgressCallback"
      ]
     },
     "execution_count": 73,
     "metadata": {},
     "output_type": "execute_result"
    }
   ],
   "source": [
    "learn.summary()"
   ]
  },
  {
   "cell_type": "markdown",
   "id": "bfff68fe-9ec3-4f03-9e66-55fde7a15e52",
   "metadata": {},
   "source": [
    "# Train (fine-tune) the neural network for one \"epoch\""
   ]
  },
  {
   "cell_type": "code",
   "execution_count": 74,
   "id": "71bd53ea-a01d-4f41-8e4a-2fc485c7b489",
   "metadata": {
    "tags": []
   },
   "outputs": [
    {
     "data": {
      "text/html": [
       "\n",
       "<style>\n",
       "    /* Turns off some styling */\n",
       "    progress {\n",
       "        /* gets rid of default border in Firefox and Opera. */\n",
       "        border: none;\n",
       "        /* Needs to be in here for Safari polyfill so background images work as expected. */\n",
       "        background-size: auto;\n",
       "    }\n",
       "    progress:not([value]), progress:not([value])::-webkit-progress-bar {\n",
       "        background: repeating-linear-gradient(45deg, #7e7e7e, #7e7e7e 10px, #5c5c5c 10px, #5c5c5c 20px);\n",
       "    }\n",
       "    .progress-bar-interrupted, .progress-bar-interrupted::-webkit-progress-bar {\n",
       "        background: #F44336;\n",
       "    }\n",
       "</style>\n"
      ],
      "text/plain": [
       "<IPython.core.display.HTML object>"
      ]
     },
     "metadata": {},
     "output_type": "display_data"
    },
    {
     "data": {
      "text/html": [
       "<table border=\"1\" class=\"dataframe\">\n",
       "  <thead>\n",
       "    <tr style=\"text-align: left;\">\n",
       "      <th>epoch</th>\n",
       "      <th>train_loss</th>\n",
       "      <th>valid_loss</th>\n",
       "      <th>accuracy</th>\n",
       "      <th>time</th>\n",
       "    </tr>\n",
       "  </thead>\n",
       "  <tbody>\n",
       "    <tr>\n",
       "      <td>0</td>\n",
       "      <td>0.622476</td>\n",
       "      <td>1.405396</td>\n",
       "      <td>0.863833</td>\n",
       "      <td>01:43</td>\n",
       "    </tr>\n",
       "  </tbody>\n",
       "</table>"
      ],
      "text/plain": [
       "<IPython.core.display.HTML object>"
      ]
     },
     "metadata": {},
     "output_type": "display_data"
    }
   ],
   "source": [
    "learn.fit_one_cycle(1)"
   ]
  },
  {
   "cell_type": "markdown",
   "id": "b5a51865-b097-4b6f-a145-d856b78c5d05",
   "metadata": {},
   "source": [
    "# Let's grab the model and save it to a file"
   ]
  },
  {
   "cell_type": "code",
   "execution_count": 163,
   "id": "cd02f332-f103-40ec-a660-5195717044f1",
   "metadata": {},
   "outputs": [],
   "source": [
    "pytorch_model = learn.model.eval()\n",
    "torch.save(pytorch_model, \"my_fastai_mnist.pt\")"
   ]
  },
  {
   "cell_type": "markdown",
   "id": "34691f43-b90a-45a8-a133-35afa9970ade",
   "metadata": {},
   "source": [
    "# Now let's upload to a nano and do a predicion speed test"
   ]
  },
  {
   "cell_type": "code",
   "execution_count": 164,
   "id": "c3565a29-fdbb-45ee-be6b-be67a1412ba5",
   "metadata": {},
   "outputs": [
    {
     "name": "stdout",
     "output_type": "stream",
     "text": [
      "Copying your model to nano...\n",
      "my_fastai_mnist.pt                            100% 4998KB   6.3MB/s   00:00    \n",
      "Running model speed test on nano...\n",
      "Initializing nano model speed test on 'my_fastai_mnist.pt'...\n",
      "Found test images...\n",
      "Found model to test...\n",
      "Importing ml packages...\n",
      "/usr/local/lib/python3.8/dist-packages/torch/cuda/__init__.py:83: UserWarning: CUDA initialization: CUDA driver initialization failed, you might not have a CUDA gpu. (Triggered internally at  ../c10/cuda/CUDAFunctions.cpp:109.)\n",
      "  return torch._C._cuda_getDeviceCount() > 0\n",
      "Preparing images...\n",
      "Loading model file my_fastai_mnist.pt\n",
      "Starting inference speed test...\n",
      "prediction rate= 65.96608405141431\n",
      "prediction rate= 69.93840579474148\n",
      "prediction rate= 72.04332764004994\n",
      "prediction rate= 68.06086966828956\n",
      "prediction rate= 70.35435894683948\n",
      "prediction rate= 72.59297762469642\n",
      "prediction rate= 71.18969773966762\n",
      "prediction rate= 71.86417964849832\n",
      "prediction rate= 72.14601295083706\n",
      "Timing test done.\n",
      "Connection to 192.168.1.14 closed.\n"
     ]
    }
   ],
   "source": [
    "!./test_model_speed_on_nano.sh my_fastai_mnist.pt"
   ]
  }
 ],
 "metadata": {
  "kernelspec": {
   "display_name": "Python 3 (ipykernel)",
   "language": "python",
   "name": "python3"
  },
  "language_info": {
   "codemirror_mode": {
    "name": "ipython",
    "version": 3
   },
   "file_extension": ".py",
   "mimetype": "text/x-python",
   "name": "python",
   "nbconvert_exporter": "python",
   "pygments_lexer": "ipython3",
   "version": "3.8.16"
  }
 },
 "nbformat": 4,
 "nbformat_minor": 5
}
