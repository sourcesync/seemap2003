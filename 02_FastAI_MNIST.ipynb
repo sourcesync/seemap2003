{
 "cells": [
  {
   "cell_type": "code",
   "execution_count": null,
   "id": "81e34959-886a-4e57-a62b-eea8ae963508",
   "metadata": {},
   "outputs": [],
   "source": [
    "!python3 -m pip show fastai"
   ]
  },
  {
   "cell_type": "code",
   "execution_count": null,
   "id": "393151fc-4930-4482-bc1a-b7a98a60e8cf",
   "metadata": {},
   "outputs": [],
   "source": [
    "import torch\n",
    "import math\n",
    "# this ensures that the current MacOS version is at least 12.3+\n",
    "print(torch.backends.mps.is_available())\n",
    "# this ensures that the current current PyTorch installation was built with MPS activated.\n",
    "print(torch.backends.mps.is_built())\n",
    "torch.device(\"mps\")\n",
    "\n",
    "from fastai.vision.all import *\n",
    "default_device(torch.device(\"mps\"))\n",
    "\n",
    "from timm import create_model\n",
    "import timm\n",
    "\n",
    "from fastai.learner import Learner"
   ]
  },
  {
   "cell_type": "code",
   "execution_count": null,
   "id": "0048b412-2936-4515-b6d3-570f6787fda7",
   "metadata": {},
   "outputs": [],
   "source": [
    "if True:\n",
    "    #timm.list_models(pretrained=False)\n",
    "\n",
    "    modelstrs = timm.list_models(pretrained=False)\n",
    "    for modelstr in modelstrs:\n",
    "        if modelstr.find(\"mobilenet\")>=0:\n",
    "            body = create_timm_body(modelstr, pretrained=True)"
   ]
  },
  {
   "cell_type": "code",
   "execution_count": null,
   "id": "060a1cba-f1bf-4644-98b0-9e9d45155fc1",
   "metadata": {},
   "outputs": [],
   "source": [
    "path = untar_data(URLs.MNIST)\n",
    "print(path)"
   ]
  },
  {
   "cell_type": "code",
   "execution_count": null,
   "id": "19f592c7-97b4-488e-afef-62dc34c399b5",
   "metadata": {},
   "outputs": [],
   "source": [
    "block = DataBlock(\n",
    "        blocks=(ImageBlock, CategoryBlock),\n",
    "        get_items=get_image_files,\n",
    "        splitter=RandomSplitter(valid_pct=0.2, seed=42),\n",
    "        get_y=parent_label)\n",
    "#        batch_tfms=aug_transforms(mult=2., do_flip=False))"
   ]
  },
  {
   "cell_type": "code",
   "execution_count": null,
   "id": "db7c5967-3912-4809-9e1a-e945529ac093",
   "metadata": {},
   "outputs": [],
   "source": [
    "loaders = block.dataloaders(path/\"training\")\n",
    "#loaders.train.show_batch(max_n=4, nrows=1)"
   ]
  },
  {
   "cell_type": "code",
   "execution_count": null,
   "id": "9c3b04a2-20ef-42e4-a3a0-6930a8ac9f96",
   "metadata": {},
   "outputs": [],
   "source": [
    "loaders.train.show_batch(max_n=4, nrows=1)"
   ]
  },
  {
   "cell_type": "code",
   "execution_count": null,
   "id": "2054a068-29a3-4954-8c23-19766989509b",
   "metadata": {},
   "outputs": [],
   "source": [
    "# squeezenet default fast ai learner\n",
    "#learn = vision_learner(loaders, squeezenet1_0, loss_func=nn.CrossEntropyLoss(), metrics=accuracy)\n",
    "#learn.summary()"
   ]
  },
  {
   "cell_type": "code",
   "execution_count": null,
   "id": "c836a7f2-44b5-490b-bf33-3d7f708dd862",
   "metadata": {},
   "outputs": [],
   "source": [
    "class Mnist_NN(nn.Module):\n",
    "    def __init__(self,pretrained):\n",
    "        super().__init__()\n",
    "        self.lin1 = nn.Linear(784, 512, bias=True) \n",
    "        self.lin2 = nn.Linear(512, 256, bias=True)\n",
    "        self.lin3 = nn.Linear(256, 10, bias=True)\n",
    "\n",
    "    def forward(self, xb):\n",
    "        x = xb.view(-1,784) \n",
    "        x = F.relu(self.lin1(x))\n",
    "        x = F.relu(self.lin2(x))\n",
    "        return self.lin3(x)"
   ]
  },
  {
   "cell_type": "code",
   "execution_count": null,
   "id": "6e9f2df2-9e3d-4529-8a42-9c2afb45897a",
   "metadata": {},
   "outputs": [],
   "source": [
    "def get_model(model, pretrained=False, progress=True, **kwargs):\n",
    "    \"\"\"model: function to load the model, e.g. resnet18\n",
    "        pretrained, progress: to be passed to the model function\n",
    "    \"\"\"\n",
    "    m = model(pretrained=pretrained, progress=progress, **kwargs) # loads standard model\n",
    "    ##m.avgpool = nn.AdaptiveAvgPool2d(output_size=(100,100)) # changes one layer\n",
    "    return m"
   ]
  },
  {
   "cell_type": "code",
   "execution_count": null,
   "id": "81510e4b-1114-4952-86a0-ae8603fd1cde",
   "metadata": {},
   "outputs": [],
   "source": [
    "\n",
    "from fastai.vision.learner import _update_first_layer\n",
    "def create_timm_body(arch:str, pretrained=True, cut=None, n_in=3):\n",
    "    \"Creates a body from any model in the `timm` library.\"\n",
    "    try:\n",
    "        model = create_model(arch, pretrained=pretrained, num_classes=0, global_pool='')\n",
    "        print(arch, type(model),sum([p.numel() for p in model.parameters()]))\n",
    "    \n",
    "        _update_first_layer(model, n_in, pretrained)\n",
    "        if cut is None:\n",
    "            ll = list(enumerate(model.children()))\n",
    "            cut = next(i for i,o in reversed(ll) if has_pool_type(o))\n",
    "        if isinstance(cut, int): return nn.Sequential(*list(model.children())[:cut])\n",
    "        elif callable(cut): return cut(model)\n",
    "        else: raise NamedError(\"cut must be either integer or function\")\n",
    "    except:\n",
    "        print(\"error processing cut\")"
   ]
  },
  {
   "cell_type": "code",
   "execution_count": null,
   "id": "111d7ba1-f5ef-4faf-b6f9-a2a87654d80a",
   "metadata": {},
   "outputs": [],
   "source": [
    "body = create_timm_body('mobilenetv3_small_050', pretrained=True)"
   ]
  },
  {
   "cell_type": "code",
   "execution_count": null,
   "id": "4534f06a-9791-49f7-9667-b89599d6ee96",
   "metadata": {},
   "outputs": [],
   "source": [
    "nf = num_features_model(nn.Sequential(*body.children())); nf\n"
   ]
  },
  {
   "cell_type": "code",
   "execution_count": null,
   "id": "b137b322-d501-468d-b516-5b55c4f26df6",
   "metadata": {},
   "outputs": [],
   "source": [
    "head = create_head(nf, loaders.c)"
   ]
  },
  {
   "cell_type": "code",
   "execution_count": null,
   "id": "830766a1-6fe9-463d-8cbd-349291fc4fc3",
   "metadata": {},
   "outputs": [],
   "source": [
    "model = nn.Sequential(body, head)"
   ]
  },
  {
   "cell_type": "code",
   "execution_count": null,
   "id": "332c22d4-0d96-4411-b27a-ff26be703874",
   "metadata": {},
   "outputs": [],
   "source": [
    "apply_init(model[1], nn.init.kaiming_normal_)"
   ]
  },
  {
   "cell_type": "code",
   "execution_count": null,
   "id": "5ac2c2db-80ca-422e-89ac-3a629a1e28d1",
   "metadata": {},
   "outputs": [],
   "source": [
    "len(model)"
   ]
  },
  {
   "cell_type": "code",
   "execution_count": null,
   "id": "7de90b70-eb2d-451d-95ed-3147203d0353",
   "metadata": {},
   "outputs": [],
   "source": [
    "def get_model(model, pretrained=False, progress=True, **kwargs):\n",
    "    \"\"\"model: function to load the model, e.g. resnet18\n",
    "        pretrained, progress: to be passed to the model function\n",
    "    \"\"\"\n",
    "    m = model(pretrained=pretrained, progress=progress, **kwargs) # loads standard model\n",
    "    ##m.avgpool = nn.AdaptiveAvgPool2d(output_size=(100,100)) # changes one layer\n",
    "    return m"
   ]
  },
  {
   "cell_type": "code",
   "execution_count": null,
   "id": "b8541ff0-7720-48e9-84e6-eb517b0f4ea9",
   "metadata": {},
   "outputs": [],
   "source": [
    "##learn = vision_learner(loaders, partial(get_model, model=model), loss_func=nn.CrossEntropyLoss(), metrics=accuracy)\n",
    "#learn = vision_learner(loaders, squeezenet0_1, loss_func=nn.CrossEntropyLoss(), metrics=accuracy)\n",
    "\n",
    "learn = Learner(loaders, model, loss_func=LabelSmoothingCrossEntropy())\n"
   ]
  },
  {
   "cell_type": "code",
   "execution_count": null,
   "id": "0e800df4-7787-48c2-bb6c-94b0e47610cb",
   "metadata": {},
   "outputs": [],
   "source": [
    "learn.summary()"
   ]
  },
  {
   "cell_type": "code",
   "execution_count": null,
   "id": "71bd53ea-a01d-4f41-8e4a-2fc485c7b489",
   "metadata": {},
   "outputs": [],
   "source": [
    "learn.fit_one_cycle(1)"
   ]
  }
 ],
 "metadata": {
  "kernelspec": {
   "display_name": "Python 3 (ipykernel)",
   "language": "python",
   "name": "python3"
  },
  "language_info": {
   "codemirror_mode": {
    "name": "ipython",
    "version": 3
   },
   "file_extension": ".py",
   "mimetype": "text/x-python",
   "name": "python",
   "nbconvert_exporter": "python",
   "pygments_lexer": "ipython3",
   "version": "3.8.16"
  }
 },
 "nbformat": 4,
 "nbformat_minor": 5
}
