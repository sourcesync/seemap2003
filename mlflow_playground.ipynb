{
 "cells": [
  {
   "cell_type": "code",
   "execution_count": 2,
   "id": "980a29b6-20c5-47fb-bda8-20b6ae495c8a",
   "metadata": {},
   "outputs": [
    {
     "name": "stdout",
     "output_type": "stream",
     "text": [
      "Name: mlflow\n",
      "Version: 2.3.1\n",
      "Summary: MLflow: A Platform for ML Development and Productionization\n",
      "Home-page: https://mlflow.org/\n",
      "Author: Databricks\n",
      "Author-email: \n",
      "License: Apache License 2.0\n",
      "Location: /Users/gwilliams/Projects/SEEMAP2023/venv/seemap2023/lib/python3.8/site-packages\n",
      "Requires: alembic, click, cloudpickle, databricks-cli, docker, entrypoints, Flask, gitpython, gunicorn, importlib-metadata, Jinja2, markdown, matplotlib, numpy, packaging, pandas, protobuf, pyarrow, pytz, pyyaml, querystring-parser, requests, scikit-learn, scipy, sqlalchemy, sqlparse\n",
      "Required-by: \n"
     ]
    }
   ],
   "source": [
    "!python3 -m pip show mlflow"
   ]
  },
  {
   "cell_type": "code",
   "execution_count": null,
   "id": "cd072b53-be69-47ad-8148-5a8b8d3e789c",
   "metadata": {},
   "outputs": [
    {
     "name": "stdout",
     "output_type": "stream",
     "text": [
      "[2023-05-09 17:04:52 -0700] [21289] [INFO] Starting gunicorn 20.1.0\n",
      "[2023-05-09 17:04:52 -0700] [21289] [INFO] Listening at: http://127.0.0.1:5000 (21289)\n",
      "[2023-05-09 17:04:52 -0700] [21289] [INFO] Using worker: sync\n",
      "[2023-05-09 17:04:52 -0700] [21291] [INFO] Booting worker with pid: 21291\n",
      "[2023-05-09 17:04:52 -0700] [21292] [INFO] Booting worker with pid: 21292\n",
      "[2023-05-09 17:04:52 -0700] [21293] [INFO] Booting worker with pid: 21293\n",
      "[2023-05-09 17:04:52 -0700] [21294] [INFO] Booting worker with pid: 21294\n"
     ]
    }
   ],
   "source": [
    "!mlflow ui"
   ]
  },
  {
   "cell_type": "code",
   "execution_count": null,
   "id": "a0101e69-8f78-46f4-9ddc-f322a03ce83b",
   "metadata": {},
   "outputs": [],
   "source": []
  }
 ],
 "metadata": {
  "kernelspec": {
   "display_name": "Python 3 (ipykernel)",
   "language": "python",
   "name": "python3"
  },
  "language_info": {
   "codemirror_mode": {
    "name": "ipython",
    "version": 3
   },
   "file_extension": ".py",
   "mimetype": "text/x-python",
   "name": "python",
   "nbconvert_exporter": "python",
   "pygments_lexer": "ipython3",
   "version": "3.8.16"
  }
 },
 "nbformat": 4,
 "nbformat_minor": 5
}
