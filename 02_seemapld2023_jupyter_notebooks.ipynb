{
 "cells": [
  {
   "cell_type": "markdown",
   "id": "872254a1-715b-4924-ba1b-f2691bda6f6b",
   "metadata": {},
   "source": [
    "<img src=\"images/seemapldbig.png\">"
   ]
  },
  {
   "cell_type": "markdown",
   "id": "6b735e2c-1100-44f3-8e6b-d8fadd80ed33",
   "metadata": {},
   "source": [
    " Jupyter Notebooks\n",
    "\n",
    "### &emsp;- an IDE (integrated development environment) for Python\n",
    "### &emsp;- completely open-Source\n",
    "### &emsp;- used extensively In academia and industry\n",
    "### &emsp;- popular with data scientists and ML engineers\n",
    "### &emsp;- oriented around \"cells\" ( documentation, code, or output )\n",
    "### &emsp;- For example, this sentence resides in a editable documentation cell."
   ]
  },
  {
   "cell_type": "code",
   "execution_count": null,
   "id": "6eb10f58-f332-4332-bb6d-7e3a14363a58",
   "metadata": {},
   "outputs": [],
   "source": [
    "# This sentence is in a comment in an editable code cell\n",
    "\n",
    "encoded = \"\\x54\\x68\\x69\\x73\\x20\\x49\\x73\\x20\\x41\\x6E\\x20\\x4F\\x75\\x74\\x70\\x75\\x74\\x20\\x43\\x65\\x6C\\x6C\"\n",
    "\n",
    "print(encoded)"
   ]
  },
  {
   "cell_type": "code",
   "execution_count": 1,
   "id": "04e02544-76ae-4c5f-a4e7-53201f0c84d1",
   "metadata": {},
   "outputs": [
    {
     "name": "stdout",
     "output_type": "stream",
     "text": [
      "<class 'int'> <class 'float'> <class 'str'>\n"
     ]
    }
   ],
   "source": [
    "# Simple Data Types\n",
    "\n",
    "a = 3\n",
    "\n",
    "b = 3.14\n",
    "\n",
    "c = \"PI\"\n",
    "\n",
    "print( type(a), type(b), type(c) )\n"
   ]
  },
  {
   "cell_type": "code",
   "execution_count": 3,
   "id": "843407fc-5b32-404a-a4b9-a2a1609826b6",
   "metadata": {},
   "outputs": [
    {
     "name": "stdout",
     "output_type": "stream",
     "text": [
      "[1, 2, 3, 3, 3.14, 'PI']\n"
     ]
    }
   ],
   "source": [
    "# Arrays\n",
    "\n",
    "arr_1 = [ 1, 2, 3 ]\n",
    "\n",
    "arr_2 = [ a, b, c ]\n",
    "         \n",
    "print( arr_1 + arr_2 )\n"
   ]
  },
  {
   "cell_type": "code",
   "execution_count": 9,
   "id": "46803110-b096-4196-894f-fed835fcd830",
   "metadata": {},
   "outputs": [
    {
     "name": "stdout",
     "output_type": "stream",
     "text": [
      "{'a': 3, 'b': 'yes', 'c': 9.9}\n"
     ]
    }
   ],
   "source": [
    "# Dicionaries\n",
    "\n",
    "lookup = { \"a\":3, \"b\":\"yes\", \"c\":9.9 }\n",
    "\n",
    "print(lookup)"
   ]
  },
  {
   "cell_type": "code",
   "execution_count": 10,
   "id": "f03c1939-2923-4f61-b8cf-53a7017ee5b8",
   "metadata": {},
   "outputs": [
    {
     "name": "stdout",
     "output_type": "stream",
     "text": [
      "[{'a': 3, 'b': 'yes', 'c': 9.9}, {'a': 3, 'b': 'yes', 'c': 9.9}, {'a': 3, 'b': 'yes', 'c': 9.9}, {'a': 3, 'b': 'yes', 'c': 9.9}]\n"
     ]
    }
   ],
   "source": [
    "# Array of Dictionaries\n",
    "\n",
    "arr_of_dct = [ lookup, lookup, lookup, lookup ]\n",
    "\n",
    "print(arr_of_dct)"
   ]
  },
  {
   "cell_type": "code",
   "execution_count": 11,
   "id": "3e12b90f-4081-48df-bdbe-a311fed66124",
   "metadata": {},
   "outputs": [
    {
     "name": "stdout",
     "output_type": "stream",
     "text": [
      "   a    b    c\n",
      "0  3  yes  9.9\n",
      "1  3  yes  9.9\n",
      "2  3  yes  9.9\n",
      "3  3  yes  9.9\n"
     ]
    }
   ],
   "source": [
    "# Dataframe\n",
    "\n",
    "import pandas\n",
    "\n",
    "df = pandas.DataFrame( arr_of_dct )\n",
    "\n",
    "print(df)"
   ]
  },
  {
   "cell_type": "markdown",
   "id": "0801da54-ba44-4ece-b0eb-23d4f39f87f7",
   "metadata": {},
   "source": [
    "# Now you try:  Add a fourth row to the dataframe with values for columns a=4, b=no, d=9.8..."
   ]
  },
  {
   "cell_type": "code",
   "execution_count": null,
   "id": "271b3e81-6799-4adf-a733-05054c2eb12e",
   "metadata": {},
   "outputs": [],
   "source": []
  }
 ],
 "metadata": {
  "kernelspec": {
   "display_name": "Python 3 (ipykernel)",
   "language": "python",
   "name": "python3"
  },
  "language_info": {
   "codemirror_mode": {
    "name": "ipython",
    "version": 3
   },
   "file_extension": ".py",
   "mimetype": "text/x-python",
   "name": "python",
   "nbconvert_exporter": "python",
   "pygments_lexer": "ipython3",
   "version": "3.8.16"
  }
 },
 "nbformat": 4,
 "nbformat_minor": 5
}
